{
 "cells": [
  {
   "cell_type": "markdown",
   "metadata": {},
   "source": [
    "## Assignment 4"
   ]
  },
  {
   "cell_type": "code",
   "execution_count": 1,
   "metadata": {},
   "outputs": [],
   "source": [
    "from tensorflow.keras.models import Sequential\n",
    "from tensorflow.keras.layers import Conv2D, Dense, Dropout, Flatten, Input, MaxPooling2D"
   ]
  },
  {
   "cell_type": "markdown",
   "metadata": {},
   "source": [
    "In class on Wednesday, March 26 we trained two neural networks models for classifying fashion MNIST.\n",
    "We'll call them **Model A** and **Model B**."
   ]
  },
  {
   "cell_type": "code",
   "execution_count": 6,
   "metadata": {
    "jupyter": {
     "source_hidden": true
    }
   },
   "outputs": [
    {
     "name": "stdout",
     "output_type": "stream",
     "text": [
      "Model: \"Model A\"\n",
      "_________________________________________________________________\n",
      "Layer (type)                 Output Shape              Param #   \n",
      "=================================================================\n",
      "flatten_4 (Flatten)          (None, 784)               0         \n",
      "_________________________________________________________________\n",
      "dense_14 (Dense)             (None, 256)               200960    \n",
      "_________________________________________________________________\n",
      "dropout_8 (Dropout)          (None, 256)               0         \n",
      "_________________________________________________________________\n",
      "dense_15 (Dense)             (None, 128)               32896     \n",
      "_________________________________________________________________\n",
      "dense_16 (Dense)             (None, 64)                8256      \n",
      "_________________________________________________________________\n",
      "dropout_9 (Dropout)          (None, 64)                0         \n",
      "_________________________________________________________________\n",
      "dense_17 (Dense)             (None, 10)                650       \n",
      "=================================================================\n",
      "Total params: 242,762\n",
      "Trainable params: 242,762\n",
      "Non-trainable params: 0\n",
      "_________________________________________________________________\n"
     ]
    }
   ],
   "source": [
    "# Model A\n",
    "modelA = Sequential([Input((28, 28)),\n",
    "                    Flatten(),\n",
    "                    Dense(256, activation=\"relu\"),\n",
    "                    Dropout(0.2),\n",
    "                    Dense(128, activation=\"relu\"),\n",
    "                    Dense(64, activation=\"relu\"),\n",
    "                    Dropout(0.2),\n",
    "                    Dense(10, activation=\"softmax\")], name=\"Model A\")\n",
    "modelA.summary()\n",
    "modelA.compile(loss=\"categorical_crossentropy\", optimizer=\"sgd\", metrics=[\"accuracy\"])"
   ]
  },
  {
   "cell_type": "code",
   "execution_count": 7,
   "metadata": {
    "jupyter": {
     "source_hidden": true
    }
   },
   "outputs": [
    {
     "name": "stdout",
     "output_type": "stream",
     "text": [
      "Model: \"Model B\"\n",
      "_________________________________________________________________\n",
      "Layer (type)                 Output Shape              Param #   \n",
      "=================================================================\n",
      "conv2d_10 (Conv2D)           (None, 28, 28, 64)        3200      \n",
      "_________________________________________________________________\n",
      "max_pooling2d_6 (MaxPooling2 (None, 14, 14, 64)        0         \n",
      "_________________________________________________________________\n",
      "conv2d_11 (Conv2D)           (None, 14, 14, 128)       73856     \n",
      "_________________________________________________________________\n",
      "conv2d_12 (Conv2D)           (None, 14, 14, 128)       147584    \n",
      "_________________________________________________________________\n",
      "max_pooling2d_7 (MaxPooling2 (None, 7, 7, 128)         0         \n",
      "_________________________________________________________________\n",
      "conv2d_13 (Conv2D)           (None, 7, 7, 256)         295168    \n",
      "_________________________________________________________________\n",
      "conv2d_14 (Conv2D)           (None, 7, 7, 256)         590080    \n",
      "_________________________________________________________________\n",
      "max_pooling2d_8 (MaxPooling2 (None, 3, 3, 256)         0         \n",
      "_________________________________________________________________\n",
      "flatten_5 (Flatten)          (None, 2304)              0         \n",
      "_________________________________________________________________\n",
      "dense_18 (Dense)             (None, 128)               295040    \n",
      "_________________________________________________________________\n",
      "dropout_10 (Dropout)         (None, 128)               0         \n",
      "_________________________________________________________________\n",
      "dense_19 (Dense)             (None, 64)                8256      \n",
      "_________________________________________________________________\n",
      "dropout_11 (Dropout)         (None, 64)                0         \n",
      "_________________________________________________________________\n",
      "dense_20 (Dense)             (None, 10)                650       \n",
      "=================================================================\n",
      "Total params: 1,413,834\n",
      "Trainable params: 1,413,834\n",
      "Non-trainable params: 0\n",
      "_________________________________________________________________\n"
     ]
    }
   ],
   "source": [
    "# Model B\n",
    "modelB = Sequential(name=\"Model B\")\n",
    "modelB.add(Conv2D(64, (7, 7), activation=\"relu\", padding=\"same\", input_shape=(28, 28, 1))) # zero-padding\n",
    "modelB.add(MaxPooling2D(2))\n",
    "modelB.add(Conv2D(128, (3, 3), activation=\"relu\", padding=\"same\"))\n",
    "modelB.add(Conv2D(128, (3, 3), activation=\"relu\", padding=\"same\"))\n",
    "modelB.add(MaxPooling2D(2))\n",
    "modelB.add(Conv2D(256, (3, 3), activation=\"relu\", padding=\"same\"))\n",
    "modelB.add(Conv2D(256, (3, 3), activation=\"relu\", padding=\"same\"))\n",
    "modelB.add(MaxPooling2D(2))\n",
    "modelB.add(Flatten())\n",
    "modelB.add(Dense(128, activation=\"relu\"))\n",
    "modelB.add(Dropout(0.5))\n",
    "modelB.add(Dense(64, activation=\"relu\"))\n",
    "modelB.add(Dropout(0.5))\n",
    "modelB.add(Dense(10, activation=\"softmax\"))\n",
    "modelB.summary()\n",
    "modelB.compile(loss=\"categorical_crossentropy\", optimizer=\"sgd\", metrics=[\"accuracy\"])"
   ]
  },
  {
   "cell_type": "markdown",
   "metadata": {},
   "source": [
    "### 1.\n",
    "\n",
    "**Train** each model for 20 epochs, just like we did in class and then **save** the models. (See [the docs](https://keras.io/getting-started/faq/#how-can-i-save-a-keras-model) or page 314 of G&eacute;ron.)"
   ]
  },
  {
   "cell_type": "markdown",
   "metadata": {},
   "source": [
    "### 2.\n",
    "\n",
    "Do this exercise using **either Model A or Model B**.\n",
    "\n",
    "Construct the confusion matrix $C$ of the test set, i.e., the $10\\times 10$ matrix whose $(i,j)$-entry is the number of images of class $i$ mistakenly classified as class $j$.\n",
    "Produce a nice visualization of the confusion matrix in the spirit of [this example](https://scikit-learn.org/stable/auto_examples/model_selection/plot_confusion_matrix.html) from the scikit-learn docs.\n",
    "\n",
    "The **symmetric confusion score** for an unordered pair $\\{i,j\\}$ of indices is the sum $C_{ij} + C_{ji}$. It's the number of times images of classes $i$ and $j$ were mistaken for one another. Which pairs of features have the three highest symmetrized confusion scores?"
   ]
  },
  {
   "cell_type": "markdown",
   "metadata": {},
   "source": [
    "### 3.\n",
    "\n",
    "Do this exercise using **either Model A or Model B**.\n",
    "\n",
    "For each ordered pair of indices $(i,j)$, find the image of class $i$ mistakenly classified as class $j$ with the lowest/highest\n",
    "- categorical crossentropy loss is the lowest/highest. Loss functions are located in the `tensorflow.keras.losses` module.\n",
    "\n",
    "- predicted probability of belonging to class $j$. These predicted probabilities are the output of `model.predict`.\n",
    "\n",
    "Plot these extremal predictions in grids; four grids in total corresponding to the four possible choices of lowest/highest and loss/probability. Assuming you're using `matplotlib`, I suggest either [`subplots`](https://matplotlib.org/3.2.1/api/_as_gen/matplotlib.pyplot.subplot.html) or [`ImageGrid`](https://matplotlib.org/3.1.1/api/_as_gen/mpl_toolkits.axes_grid1.axes_grid.ImageGrid.html#mpl_toolkits.axes_grid1.axes_grid.ImageGrid)."
   ]
  },
  {
   "cell_type": "markdown",
   "metadata": {},
   "source": [
    "### 4.\n",
    "\n",
    "We use the architecture and weights of a neural network trained on a large data set as initialization values for retraining the same network on a much smaller data set of a similar nature. This approach is known as **transfer learning**.\n",
    "\n",
    "Load the **MNIST handwritten digit data** (`keras.datasets.mnist.load_data`), both training and testing sets.\n",
    "For $n=100, 200, ...$, retrain your models A and B on a $n$ randomly selected training images and record the accuracy on the full test set.\n",
    "How large does $n$ need to be to achieve 95% accuracy on the test set? Make sure you reload your weights between training runs!\n",
    "\n",
    "For $n=100, 200, ...$, train models A and B from scratch (i.e., with random initializations) on a $n$ randomly selected training images and record the accuracy on the full test set.\n",
    "How large does $n$ need to be to achieve 95% accuracy on the test set? Make sure you reinitialize your weights between training runs!\n",
    "\n",
    "Comment on the effectiveness of transfer learning in the context of your computaitons.\n",
    "\n"
   ]
  },
  {
   "cell_type": "code",
   "execution_count": null,
   "metadata": {},
   "outputs": [],
   "source": []
  }
 ],
 "metadata": {
  "kernelspec": {
   "display_name": "Python 3",
   "language": "python",
   "name": "python3"
  },
  "language_info": {
   "codemirror_mode": {
    "name": "ipython",
    "version": 3
   },
   "file_extension": ".py",
   "mimetype": "text/x-python",
   "name": "python",
   "nbconvert_exporter": "python",
   "pygments_lexer": "ipython3",
   "version": "3.7.6"
  }
 },
 "nbformat": 4,
 "nbformat_minor": 4
}
